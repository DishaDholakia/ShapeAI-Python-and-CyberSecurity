{
 "cells": [
  {
   "cell_type": "code",
   "execution_count": 3,
   "metadata": {},
   "outputs": [
    {
     "name": "stdout",
     "output_type": "stream",
     "text": [
      "Enter the city name: Delhi\n",
      "{\"coord\":{\"lon\":77.2167,\"lat\":28.6667},\"weather\":[{\"id\":721,\"main\":\"Haze\",\"description\":\"haze\",\"icon\":\"50d\"}],\"base\":\"stations\",\"main\":{\"temp\":310.2,\"feels_like\":311.59,\"temp_min\":310.2,\"temp_max\":310.2,\"pressure\":1004,\"humidity\":32},\"visibility\":3000,\"wind\":{\"speed\":1.54,\"deg\":280},\"clouds\":{\"all\":40},\"dt\":1624429581,\"sys\":{\"type\":1,\"id\":9165,\"country\":\"IN\",\"sunrise\":1624406052,\"sunset\":1624456341},\"timezone\":19800,\"id\":1273294,\"name\":\"Delhi\",\"cod\":200}\n",
      "-------------------------------------------------------------\n",
      "Weather Stats for - DELHI  || 23 Jun 2021 | 11:59:09 AM\n",
      "-------------------------------------------------------------\n",
      "Current temperature is: 37.05 deg C\n",
      "Current weather desc  : haze\n",
      "Current Humidity      : 32 %\n",
      "Current wind speed    : 1.54 kmph\n"
     ]
    }
   ],
   "source": [
    "import requests\n",
    "import os\n",
    "from datetime import datetime\n",
    "\n",
    "api_key = '83b8fec60f519342c79a25da016e3e72'\n",
    "location = input(\"Enter the city name: \")\n",
    "\n",
    "complete_api_link = \"https://api.openweathermap.org/data/2.5/weather?q=\"+location+\"&appid=\"+api_key\n",
    "api_link = requests.get(complete_api_link)\n",
    "print(api_link.text)\n",
    "api_data = api_link.json()\n",
    "\n",
    "#create variables to store and display data\n",
    "temp_city = ((api_data['main']['temp']) - 273.15)\n",
    "weather_desc = api_data['weather'][0]['description']\n",
    "hmdt = api_data['main']['humidity']\n",
    "wind_spd = api_data['wind']['speed']\n",
    "date_time = datetime.now().strftime(\"%d %b %Y | %I:%M:%S %p\")\n",
    "\n",
    "print (\"-------------------------------------------------------------\")\n",
    "print (\"Weather Stats for - {}  || {}\".format(location.upper(), date_time))\n",
    "print (\"-------------------------------------------------------------\")\n",
    "\n",
    "print (\"Current temperature is: {:.2f} deg C\".format(temp_city))\n",
    "print (\"Current weather desc  :\",weather_desc)\n",
    "print (\"Current Humidity      :\",hmdt, '%')\n",
    "print (\"Current wind speed    :\",wind_spd ,'kmph')"
   ]
  },
  {
   "cell_type": "markdown",
   "metadata": {},
   "source": [
    "Output in a file"
   ]
  },
  {
   "cell_type": "code",
   "execution_count": 6,
   "metadata": {},
   "outputs": [],
   "source": [
    "l1=\"-------------------------------------------------------------\\n\"\n",
    "l2=\"Weather Stats for - {}  || {}\\n\".format(location.upper(), date_time)\n",
    "l3=\"Current temperature is: {:.2f} deg C\\n\".format(temp_city)\n",
    "l4=\"Current weather desc  :{}\\n\".format(weather_desc)\n",
    "l5=\"Current Humidity      :{}%\\n\".format(hmdt)\n",
    "l6=\"Current wind speed    :{}kmph\\n\".format(wind_spd)\n",
    "Lines=[l1,l2,l1,l3,l4,l5,l6]\n",
    "f = open(\"WeatherData.txt\", \"w\")\n",
    "f.writelines(Lines)\n",
    "f.close()"
   ]
  }
 ],
 "metadata": {
  "kernelspec": {
   "display_name": "Python 3",
   "language": "python",
   "name": "python3"
  },
  "language_info": {
   "codemirror_mode": {
    "name": "ipython",
    "version": 3
   },
   "file_extension": ".py",
   "mimetype": "text/x-python",
   "name": "python",
   "nbconvert_exporter": "python",
   "pygments_lexer": "ipython3",
   "version": "3.8.3"
  }
 },
 "nbformat": 4,
 "nbformat_minor": 4
}
